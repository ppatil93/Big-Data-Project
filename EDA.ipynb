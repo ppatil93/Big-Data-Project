{
 "cells": [
  {
   "cell_type": "code",
   "execution_count": 2,
   "metadata": {},
   "outputs": [
    {
     "data": {
      "text/plain": [
       "'/Users/priyankapatil'"
      ]
     },
     "execution_count": 2,
     "metadata": {},
     "output_type": "execute_result"
    }
   ],
   "source": [
    "import pyspark\n",
    "import os\n",
    "os.getcwd()"
   ]
  },
  {
   "cell_type": "code",
   "execution_count": 3,
   "metadata": {},
   "outputs": [
    {
     "name": "stdout",
     "output_type": "stream",
     "text": [
      "Hey Priyanka\n"
     ]
    }
   ],
   "source": [
    "import findspark\n",
    "findspark.init('/Users/priyankapatil/anaconda3/lib/python3.7/site-packages/pyspark')\n",
    "print (\"Hey Priyanka\")"
   ]
  },
  {
   "cell_type": "code",
   "execution_count": 4,
   "metadata": {},
   "outputs": [
    {
     "data": {
      "text/html": [
       "\n",
       "        <div>\n",
       "            <p><b>SparkContext</b></p>\n",
       "\n",
       "            <p><a href=\"http://192.168.1.25:4040\">Spark UI</a></p>\n",
       "\n",
       "            <dl>\n",
       "              <dt>Version</dt>\n",
       "                <dd><code>v2.4.5</code></dd>\n",
       "              <dt>Master</dt>\n",
       "                <dd><code>local[*]</code></dd>\n",
       "              <dt>AppName</dt>\n",
       "                <dd><code>SparkSQL</code></dd>\n",
       "            </dl>\n",
       "        </div>\n",
       "        "
      ],
      "text/plain": [
       "<SparkContext master=local[*] appName=SparkSQL>"
      ]
     },
     "execution_count": 4,
     "metadata": {},
     "output_type": "execute_result"
    }
   ],
   "source": [
    "from pyspark.sql import Row\n",
    "from pyspark.sql import functions\n",
    "from pyspark.sql import SQLContext\n",
    "from pyspark import SparkContext, SparkConf\n",
    "from pyspark.sql.types import *\n",
    "from pyspark.sql.functions import *\n",
    "import pyspark.sql.functions as func\n",
    "from pyspark.sql import SparkSession\n",
    "\n",
    "spark = SparkSession.builder.config(\"spark.sql.warehouse.dir\", \"file:///C:/temp\").appName(\"SparkSQL\").getOrCreate()\n",
    "\n",
    "sc = SparkContext.getOrCreate(SparkConf().setMaster(\"local[*]\"))\n",
    "sqlContext = SQLContext(sc)\n",
    "sc"
   ]
  },
  {
   "cell_type": "code",
   "execution_count": 5,
   "metadata": {},
   "outputs": [],
   "source": [
    "# Load the data stored in csv format as a DataFrame.\n",
    "data = spark.read.load(r'/Users/priyankapatil/Desktop/Data/dataset_flight.csv',\n",
    "                     format=\"csv\", sep=\",\", inferSchema='true', header=\"true\")"
   ]
  },
  {
   "cell_type": "code",
   "execution_count": 6,
   "metadata": {},
   "outputs": [],
   "source": [
    "#create a new copy of the Spark dataframe\n",
    "dfa = data"
   ]
  },
  {
   "cell_type": "code",
   "execution_count": 7,
   "metadata": {},
   "outputs": [],
   "source": [
    "#Create Table for explatory analysis\n",
    "\n",
    "data.createOrReplaceTempView(\"Airline\")"
   ]
  },
  {
   "cell_type": "code",
   "execution_count": 8,
   "metadata": {},
   "outputs": [
    {
     "data": {
      "text/plain": [
       "14350435"
      ]
     },
     "execution_count": 8,
     "metadata": {},
     "output_type": "execute_result"
    }
   ],
   "source": [
    "dfr1 = spark.sql(\"SELECT OP_UNIQUE_CARRIER,CANCELLED from Airline where CANCELLED =0\")\n",
    "\n",
    "dfr1.count()"
   ]
  },
  {
   "cell_type": "code",
   "execution_count": 9,
   "metadata": {},
   "outputs": [
    {
     "data": {
      "text/plain": [
       "248385"
      ]
     },
     "execution_count": 9,
     "metadata": {},
     "output_type": "execute_result"
    }
   ],
   "source": [
    "#Total number of flights cancelled in January\n",
    "\n",
    "dfr1b = spark.sql(\"SELECT OP_UNIQUE_CARRIER,CANCELLED from Airline where CANCELLED =1\")\n",
    "\n",
    "dfr1b.count()"
   ]
  },
  {
   "cell_type": "code",
   "execution_count": 10,
   "metadata": {},
   "outputs": [
    {
     "data": {
      "text/plain": [
       "1.7308534549649541"
      ]
     },
     "execution_count": 10,
     "metadata": {},
     "output_type": "execute_result"
    }
   ],
   "source": [
    "# % of flights cancelled\n",
    "\n",
    "(dfr1b.count()/dfr1.count())*100"
   ]
  },
  {
   "cell_type": "code",
   "execution_count": 11,
   "metadata": {},
   "outputs": [
    {
     "name": "stdout",
     "output_type": "stream",
     "text": [
      "+-----------------+--------------+\n",
      "|OP_UNIQUE_CARRIER|sum(CANCELLED)|\n",
      "+-----------------+--------------+\n",
      "|               WN|       48198.0|\n",
      "|               AA|       34320.0|\n",
      "|               OO|       28218.0|\n",
      "|               MQ|       22438.0|\n",
      "|               OH|       19338.0|\n",
      "|               YX|       18363.0|\n",
      "|               YV|       12238.0|\n",
      "|               EV|       11511.0|\n",
      "|               9E|       10726.0|\n",
      "|               B6|       10059.0|\n",
      "|               UA|        9922.0|\n",
      "|               NK|        5415.0|\n",
      "|               DL|        5368.0|\n",
      "|               AS|        5246.0|\n",
      "|               F9|        4709.0|\n",
      "|               G4|        1460.0|\n",
      "|               VX|         433.0|\n",
      "|               HA|         423.0|\n",
      "+-----------------+--------------+\n",
      "\n"
     ]
    }
   ],
   "source": [
    "#Carrier with most cancellations during Nov 2018 -  January 2019 period\n",
    "\n",
    "dfr1b.groupby('OP_UNIQUE_CARRIER').sum('CANCELLED').orderBy('sum(CANCELLED)', ascending=False).show()"
   ]
  },
  {
   "cell_type": "code",
   "execution_count": 12,
   "metadata": {},
   "outputs": [
    {
     "name": "stdout",
     "output_type": "stream",
     "text": [
      "+---------+--------------+\n",
      "|  Weekday|sum(CANCELLED)|\n",
      "+---------+--------------+\n",
      "|Wednesday|       43201.0|\n",
      "| Thursday|       39165.0|\n",
      "|  Tuesday|       38429.0|\n",
      "|   Monday|       36741.0|\n",
      "|   Friday|       34756.0|\n",
      "|   Sunday|       32851.0|\n",
      "| Saturday|       23242.0|\n",
      "+---------+--------------+\n",
      "\n"
     ]
    }
   ],
   "source": [
    "# Weekday with most cancellations\n",
    "\n",
    "dfr2 = spark.sql(\"SELECT DAY_OF_WEEK, CANCELLED from Airline where CANCELLED =1\")\n",
    "\n",
    "t = {1:\"Monday\", 2: \"Tuesday\", 3:\"Wednesday\", 4: \"Thursday\", 5: \"Friday\", 6: \"Saturday\", 7: \"Sunday\"}\n",
    "\n",
    "conv = udf(lambda x: t[x], StringType())\n",
    "dfwd= dfr2.withColumn(\"Weekday\", conv(\"DAY_OF_WEEK\")).groupBy('Weekday').sum('CANCELLED').orderBy('sum(CANCELLED)', ascending=False).show()"
   ]
  },
  {
   "cell_type": "code",
   "execution_count": 13,
   "metadata": {},
   "outputs": [
    {
     "name": "stdout",
     "output_type": "stream",
     "text": [
      "+------+------------------+\n",
      "|ORIGIN|    avg(DEP_DELAY)|\n",
      "+------+------------------+\n",
      "|   ORD|13.696719592272279|\n",
      "|   JFK|12.594131990182614|\n",
      "|   TPA|11.045266409578227|\n",
      "|   LAX| 9.197468209285526|\n",
      "+------+------------------+\n",
      "\n"
     ]
    }
   ],
   "source": [
    "#Average delay of flights originating from Tampa, JFK, ORD, LAX\n",
    "\n",
    "dfrd = spark.sql(\"SELECT ORIGIN, DEP_DELAY, CANCELLED from Airline where (ORIGIN='TPA' or ORIGIN='ORD' or ORIGIN='JFK' or ORIGIN='LAX') and CANCELLED=0\")\n",
    "\n",
    "\n",
    "dfrd.groupBy('ORIGIN').avg('DEP_DELAY').orderBy('avg(DEP_DELAY)', ascending= False).show()"
   ]
  },
  {
   "cell_type": "code",
   "execution_count": 15,
   "metadata": {},
   "outputs": [
    {
     "name": "stdout",
     "output_type": "stream",
     "text": [
      "+----+-------+-----+------------+-----------+-----------------+--------+-----------------+------+----+------------+--------+---------+--------+-------+------------+--------+---------+---------+-----------------+--------+----------------+-------------------+--------+--------+-------------+-------------+---------+--------------+-------------------+----+\n",
      "|YEAR|QUARTER|MONTH|DAY_OF_MONTH|DAY_OF_WEEK|OP_UNIQUE_CARRIER|TAIL_NUM|OP_CARRIER_FL_NUM|ORIGIN|DEST|CRS_DEP_TIME|DEP_TIME|DEP_DELAY|TAXI_OUT|TAXI_IN|CRS_ARR_TIME|ARR_TIME|ARR_DELAY|CANCELLED|CANCELLATION_CODE|DIVERTED|CRS_ELAPSED_TIME|ACTUAL_ELAPSED_TIME|AIR_TIME|DISTANCE|CARRIER_DELAY|WEATHER_DELAY|NAS_DELAY|SECURITY_DELAY|LATE_AIRCRAFT_DELAY|_c30|\n",
      "+----+-------+-----+------------+-----------+-----------------+--------+-----------------+------+----+------------+--------+---------+--------+-------+------------+--------+---------+---------+-----------------+--------+----------------+-------------------+--------+--------+-------------+-------------+---------+--------------+-------------------+----+\n",
      "|2018|      2|    4|          24|          2|               UA|  N18243|             2055|   SFO| PDX|        1200|    1155|     -5.0|    37.0|    4.0|        1351|    1351|      0.0|      0.0|             null|     0.0|           111.0|              116.0|    75.0|   550.0|         null|         null|     null|          null|               null|null|\n",
      "|2018|      2|    4|          24|          2|               UA|  N18243|             2054|   PDX| SFO|        1442|    1436|     -6.0|    11.0|    9.0|        1632|    1621|    -11.0|      0.0|             null|     0.0|           110.0|              105.0|    85.0|   550.0|         null|         null|     null|          null|               null|null|\n",
      "|2018|      2|    4|          24|          2|               UA|  N12218|             2053|   MCO| IAH|        1708|    1658|    -10.0|    13.0|    8.0|        1848|    1831|    -17.0|      0.0|             null|     0.0|           160.0|              153.0|   132.0|   854.0|         null|         null|     null|          null|               null|null|\n",
      "|2018|      2|    4|          24|          2|               UA|  N851UA|             2052|   FAT| SFO|         605|     558|     -7.0|    11.0|   15.0|         702|     655|     -7.0|      0.0|             null|     0.0|            57.0|               57.0|    31.0|   158.0|         null|         null|     null|          null|               null|null|\n",
      "|2018|      2|    4|          24|          2|               UA|  N431UA|             2051|   TPA| SFO|         805|     758|     -7.0|    15.0|    6.0|        1101|    1041|    -20.0|      0.0|             null|     0.0|           356.0|              343.0|   322.0|  2393.0|         null|         null|     null|          null|               null|null|\n",
      "+----+-------+-----+------------+-----------+-----------------+--------+-----------------+------+----+------------+--------+---------+--------+-------+------------+--------+---------+---------+-----------------+--------+----------------+-------------------+--------+--------+-------------+-------------+---------+--------------+-------------------+----+\n",
      "only showing top 5 rows\n",
      "\n"
     ]
    }
   ],
   "source": [
    "dfa.show(5)"
   ]
  },
  {
   "cell_type": "code",
   "execution_count": 17,
   "metadata": {},
   "outputs": [
    {
     "name": "stdout",
     "output_type": "stream",
     "text": [
      "+-----------------+---------+\n",
      "|OP_UNIQUE_CARRIER|DEP_DELAY|\n",
      "+-----------------+---------+\n",
      "|               UA|    309.0|\n",
      "|               UA|     25.0|\n",
      "|               UA|     82.0|\n",
      "|               UA|     42.0|\n",
      "|               UA|     25.0|\n",
      "|               UA|     98.0|\n",
      "|               UA|     41.0|\n",
      "|               UA|     77.0|\n",
      "|               UA|    636.0|\n",
      "|               UA|    143.0|\n",
      "|               UA|     50.0|\n",
      "|               UA|    118.0|\n",
      "|               UA|     29.0|\n",
      "|               UA|     29.0|\n",
      "|               UA|   1069.0|\n",
      "|               UA|     24.0|\n",
      "|               UA|     35.0|\n",
      "|               UA|     51.0|\n",
      "|               UA|     42.0|\n",
      "|               UA|    132.0|\n",
      "+-----------------+---------+\n",
      "only showing top 20 rows\n",
      "\n"
     ]
    }
   ],
   "source": [
    "test = spark.sql(\"SELECT OP_UNIQUE_CARRIER,DEP_DELAY from Airline where DEP_DELAY > 15\")\n",
    "\n",
    "test.show(20)"
   ]
  },
  {
   "cell_type": "code",
   "execution_count": 18,
   "metadata": {},
   "outputs": [],
   "source": [
    "from pyspark.sql.functions import lit\n"
   ]
  },
  {
   "cell_type": "code",
   "execution_count": 19,
   "metadata": {},
   "outputs": [
    {
     "name": "stdout",
     "output_type": "stream",
     "text": [
      "+----+-------+-----+------------+-----------+-----------------+--------+-----------------+------+----+------------+--------+---------+--------+-------+------------+--------+---------+---------+-----------------+--------+----------------+-------------------+--------+--------+-------------+-------------+---------+--------------+-------------------+----+---------+\n",
      "|YEAR|QUARTER|MONTH|DAY_OF_MONTH|DAY_OF_WEEK|OP_UNIQUE_CARRIER|TAIL_NUM|OP_CARRIER_FL_NUM|ORIGIN|DEST|CRS_DEP_TIME|DEP_TIME|DEP_DELAY|TAXI_OUT|TAXI_IN|CRS_ARR_TIME|ARR_TIME|ARR_DELAY|CANCELLED|CANCELLATION_CODE|DIVERTED|CRS_ELAPSED_TIME|ACTUAL_ELAPSED_TIME|AIR_TIME|DISTANCE|CARRIER_DELAY|WEATHER_DELAY|NAS_DELAY|SECURITY_DELAY|LATE_AIRCRAFT_DELAY|_c30|DEP_DEL15|\n",
      "+----+-------+-----+------------+-----------+-----------------+--------+-----------------+------+----+------------+--------+---------+--------+-------+------------+--------+---------+---------+-----------------+--------+----------------+-------------------+--------+--------+-------------+-------------+---------+--------------+-------------------+----+---------+\n",
      "|2018|      2|    4|          24|          2|               UA|  N18243|             2055|   SFO| PDX|        1200|    1155|     -5.0|    37.0|    4.0|        1351|    1351|      0.0|      0.0|             null|     0.0|           111.0|              116.0|    75.0|   550.0|         null|         null|     null|          null|               null|null|      0.0|\n",
      "|2018|      2|    4|          24|          2|               UA|  N18243|             2054|   PDX| SFO|        1442|    1436|     -6.0|    11.0|    9.0|        1632|    1621|    -11.0|      0.0|             null|     0.0|           110.0|              105.0|    85.0|   550.0|         null|         null|     null|          null|               null|null|      0.0|\n",
      "|2018|      2|    4|          24|          2|               UA|  N12218|             2053|   MCO| IAH|        1708|    1658|    -10.0|    13.0|    8.0|        1848|    1831|    -17.0|      0.0|             null|     0.0|           160.0|              153.0|   132.0|   854.0|         null|         null|     null|          null|               null|null|      0.0|\n",
      "|2018|      2|    4|          24|          2|               UA|  N851UA|             2052|   FAT| SFO|         605|     558|     -7.0|    11.0|   15.0|         702|     655|     -7.0|      0.0|             null|     0.0|            57.0|               57.0|    31.0|   158.0|         null|         null|     null|          null|               null|null|      0.0|\n",
      "|2018|      2|    4|          24|          2|               UA|  N431UA|             2051|   TPA| SFO|         805|     758|     -7.0|    15.0|    6.0|        1101|    1041|    -20.0|      0.0|             null|     0.0|           356.0|              343.0|   322.0|  2393.0|         null|         null|     null|          null|               null|null|      0.0|\n",
      "|2018|      2|    4|          24|          2|               UA|  N37290|             2050|   MYR| EWR|        1307|    1302|     -5.0|    35.0|    4.0|        1500|    1502|      2.0|      0.0|             null|     0.0|           113.0|              120.0|    81.0|   550.0|         null|         null|     null|          null|               null|null|      0.0|\n",
      "|2018|      2|    4|          24|          2|               UA|  N34222|             2049|   DEN| IAH|        1523|    1517|     -6.0|    17.0|    9.0|        1846|    1838|     -8.0|      0.0|             null|     0.0|           143.0|              141.0|   115.0|   862.0|         null|         null|     null|          null|               null|null|      0.0|\n",
      "|2018|      2|    4|          24|          2|               UA|  N78540|             2049|   LAX| DEN|        1050|    1043|     -7.0|    33.0|    7.0|        1418|    1411|     -7.0|      0.0|             null|     0.0|           148.0|              148.0|   108.0|   862.0|         null|         null|     null|          null|               null|null|      0.0|\n",
      "|2018|      2|    4|          24|          2|               UA|  N457UA|             2048|   LAX| LAS|        1950|    1947|     -3.0|    18.0|    5.0|        2107|    2056|    -11.0|      0.0|             null|     0.0|            77.0|               69.0|    46.0|   236.0|         null|         null|     null|          null|               null|null|      0.0|\n",
      "|2018|      2|    4|          24|          2|               UA|  N15710|             2047|   BOS| EWR|        1922|    1913|     -9.0|    21.0|    6.0|        2050|    2032|    -18.0|      0.0|             null|     0.0|            88.0|               79.0|    52.0|   200.0|         null|         null|     null|          null|               null|null|      0.0|\n",
      "|2018|      2|    4|          24|          2|               UA|  N11206|             2047|   IAH| BOS|        1304|    1259|     -5.0|    15.0|    3.0|        1754|    1734|    -20.0|      0.0|             null|     0.0|           230.0|              215.0|   197.0|  1597.0|         null|         null|     null|          null|               null|null|      0.0|\n",
      "|2018|      2|    4|          24|          2|               UA|  N75858|             2046|   SFO| DCA|        1252|    1246|     -6.0|    21.0|   14.0|        2100|    2100|      0.0|      0.0|             null|     0.0|           308.0|              314.0|   279.0|  2442.0|         null|         null|     null|          null|               null|null|      0.0|\n",
      "|2018|      2|    4|          24|          2|               UA|  N77430|             2045|   BOS| IAH|        1707|    1701|     -6.0|    19.0|   14.0|        2023|    2002|    -21.0|      0.0|             null|     0.0|           256.0|              241.0|   208.0|  1597.0|         null|         null|     null|          null|               null|null|      0.0|\n",
      "|2018|      2|    4|          24|          2|               UA|  N897UA|             2045|   EWR| BOS|        1400|    1353|     -7.0|    16.0|    4.0|        1509|    1457|    -12.0|      0.0|             null|     0.0|            69.0|               64.0|    44.0|   200.0|         null|         null|     null|          null|               null|null|      0.0|\n",
      "|2018|      2|    4|          24|          2|               UA|  N17752|             2044|   SMF| IAH|         535|     530|     -5.0|    13.0|   10.0|        1110|    1111|      1.0|      0.0|             null|     0.0|           215.0|              221.0|   198.0|  1609.0|         null|         null|     null|          null|               null|null|      0.0|\n",
      "|2018|      2|    4|          24|          2|               UA|  N33264|             2043|   ORD| IAH|         601|     556|     -5.0|    26.0|    8.0|         848|     835|    -13.0|      0.0|             null|     0.0|           167.0|              159.0|   125.0|   925.0|         null|         null|     null|          null|               null|null|      0.0|\n",
      "|2018|      2|    4|          24|          2|               UA|  N56859|             2042|   DCA| SFO|         755|     749|     -6.0|    16.0|    4.0|        1100|    1023|    -37.0|      0.0|             null|     0.0|           365.0|              334.0|   314.0|  2442.0|         null|         null|     null|          null|               null|null|      0.0|\n",
      "|2018|      2|    4|          24|          2|               UA|  N510UA|             2041|   LAX| EWR|         600|     603|      3.0|    21.0|    6.0|        1414|    1418|      4.0|      0.0|             null|     0.0|           314.0|              315.0|   288.0|  2454.0|         null|         null|     null|          null|               null|null|      0.0|\n",
      "|2018|      2|    4|          24|          2|               UA|  N436UA|             2040|   IAH| FLL|        1015|    1008|     -7.0|    14.0|    4.0|        1342|    1323|    -19.0|      0.0|             null|     0.0|           147.0|              135.0|   117.0|   966.0|         null|         null|     null|          null|               null|null|      0.0|\n",
      "|2018|      2|    4|          24|          2|               UA|  N77865|             2039|   LAX| ORD|         820|     820|      0.0|    32.0|   14.0|        1427|    1425|     -2.0|      0.0|             null|     0.0|           247.0|              245.0|   199.0|  1744.0|         null|         null|     null|          null|               null|null|      0.0|\n",
      "+----+-------+-----+------------+-----------+-----------------+--------+-----------------+------+----+------------+--------+---------+--------+-------+------------+--------+---------+---------+-----------------+--------+----------------+-------------------+--------+--------+-------------+-------------+---------+--------------+-------------------+----+---------+\n",
      "only showing top 20 rows\n",
      "\n"
     ]
    }
   ],
   "source": [
    "Delay15 = dfa.withColumn(\"DEP_DEL15\", lit(0.0))\n",
    "Delay15.show()"
   ]
  },
  {
   "cell_type": "code",
   "execution_count": 36,
   "metadata": {},
   "outputs": [
    {
     "name": "stdout",
     "output_type": "stream",
     "text": [
      "+----+-------+-----+------------+-----------+-----------------+--------+-----------------+------+----+------------+--------+---------+--------+-------+------------+--------+---------+---------+-----------------+--------+----------------+-------------------+--------+--------+-------------+-------------+---------+--------------+-------------------+----+---------+\n",
      "|YEAR|QUARTER|MONTH|DAY_OF_MONTH|DAY_OF_WEEK|OP_UNIQUE_CARRIER|TAIL_NUM|OP_CARRIER_FL_NUM|ORIGIN|DEST|CRS_DEP_TIME|DEP_TIME|DEP_DELAY|TAXI_OUT|TAXI_IN|CRS_ARR_TIME|ARR_TIME|ARR_DELAY|CANCELLED|CANCELLATION_CODE|DIVERTED|CRS_ELAPSED_TIME|ACTUAL_ELAPSED_TIME|AIR_TIME|DISTANCE|CARRIER_DELAY|WEATHER_DELAY|NAS_DELAY|SECURITY_DELAY|LATE_AIRCRAFT_DELAY|_c30|DEP_DEL15|\n",
      "+----+-------+-----+------------+-----------+-----------------+--------+-----------------+------+----+------------+--------+---------+--------+-------+------------+--------+---------+---------+-----------------+--------+----------------+-------------------+--------+--------+-------------+-------------+---------+--------------+-------------------+----+---------+\n",
      "|2018|      2|    4|          24|          2|               UA|  N18243|             2055|   SFO| PDX|        1200|    1155|     -5.0|    37.0|    4.0|        1351|    1351|      0.0|      0.0|             null|     0.0|           111.0|              116.0|    75.0|   550.0|         null|         null|     null|          null|               null|null|        0|\n",
      "|2018|      2|    4|          24|          2|               UA|  N18243|             2054|   PDX| SFO|        1442|    1436|     -6.0|    11.0|    9.0|        1632|    1621|    -11.0|      0.0|             null|     0.0|           110.0|              105.0|    85.0|   550.0|         null|         null|     null|          null|               null|null|        0|\n",
      "|2018|      2|    4|          24|          2|               UA|  N12218|             2053|   MCO| IAH|        1708|    1658|    -10.0|    13.0|    8.0|        1848|    1831|    -17.0|      0.0|             null|     0.0|           160.0|              153.0|   132.0|   854.0|         null|         null|     null|          null|               null|null|        0|\n",
      "|2018|      2|    4|          24|          2|               UA|  N851UA|             2052|   FAT| SFO|         605|     558|     -7.0|    11.0|   15.0|         702|     655|     -7.0|      0.0|             null|     0.0|            57.0|               57.0|    31.0|   158.0|         null|         null|     null|          null|               null|null|        0|\n",
      "|2018|      2|    4|          24|          2|               UA|  N431UA|             2051|   TPA| SFO|         805|     758|     -7.0|    15.0|    6.0|        1101|    1041|    -20.0|      0.0|             null|     0.0|           356.0|              343.0|   322.0|  2393.0|         null|         null|     null|          null|               null|null|        0|\n",
      "|2018|      2|    4|          24|          2|               UA|  N37290|             2050|   MYR| EWR|        1307|    1302|     -5.0|    35.0|    4.0|        1500|    1502|      2.0|      0.0|             null|     0.0|           113.0|              120.0|    81.0|   550.0|         null|         null|     null|          null|               null|null|        0|\n",
      "|2018|      2|    4|          24|          2|               UA|  N34222|             2049|   DEN| IAH|        1523|    1517|     -6.0|    17.0|    9.0|        1846|    1838|     -8.0|      0.0|             null|     0.0|           143.0|              141.0|   115.0|   862.0|         null|         null|     null|          null|               null|null|        0|\n",
      "|2018|      2|    4|          24|          2|               UA|  N78540|             2049|   LAX| DEN|        1050|    1043|     -7.0|    33.0|    7.0|        1418|    1411|     -7.0|      0.0|             null|     0.0|           148.0|              148.0|   108.0|   862.0|         null|         null|     null|          null|               null|null|        0|\n",
      "|2018|      2|    4|          24|          2|               UA|  N457UA|             2048|   LAX| LAS|        1950|    1947|     -3.0|    18.0|    5.0|        2107|    2056|    -11.0|      0.0|             null|     0.0|            77.0|               69.0|    46.0|   236.0|         null|         null|     null|          null|               null|null|        0|\n",
      "|2018|      2|    4|          24|          2|               UA|  N15710|             2047|   BOS| EWR|        1922|    1913|     -9.0|    21.0|    6.0|        2050|    2032|    -18.0|      0.0|             null|     0.0|            88.0|               79.0|    52.0|   200.0|         null|         null|     null|          null|               null|null|        0|\n",
      "|2018|      2|    4|          24|          2|               UA|  N11206|             2047|   IAH| BOS|        1304|    1259|     -5.0|    15.0|    3.0|        1754|    1734|    -20.0|      0.0|             null|     0.0|           230.0|              215.0|   197.0|  1597.0|         null|         null|     null|          null|               null|null|        0|\n",
      "|2018|      2|    4|          24|          2|               UA|  N75858|             2046|   SFO| DCA|        1252|    1246|     -6.0|    21.0|   14.0|        2100|    2100|      0.0|      0.0|             null|     0.0|           308.0|              314.0|   279.0|  2442.0|         null|         null|     null|          null|               null|null|        0|\n",
      "|2018|      2|    4|          24|          2|               UA|  N77430|             2045|   BOS| IAH|        1707|    1701|     -6.0|    19.0|   14.0|        2023|    2002|    -21.0|      0.0|             null|     0.0|           256.0|              241.0|   208.0|  1597.0|         null|         null|     null|          null|               null|null|        0|\n",
      "|2018|      2|    4|          24|          2|               UA|  N897UA|             2045|   EWR| BOS|        1400|    1353|     -7.0|    16.0|    4.0|        1509|    1457|    -12.0|      0.0|             null|     0.0|            69.0|               64.0|    44.0|   200.0|         null|         null|     null|          null|               null|null|        0|\n",
      "|2018|      2|    4|          24|          2|               UA|  N17752|             2044|   SMF| IAH|         535|     530|     -5.0|    13.0|   10.0|        1110|    1111|      1.0|      0.0|             null|     0.0|           215.0|              221.0|   198.0|  1609.0|         null|         null|     null|          null|               null|null|        0|\n",
      "|2018|      2|    4|          24|          2|               UA|  N33264|             2043|   ORD| IAH|         601|     556|     -5.0|    26.0|    8.0|         848|     835|    -13.0|      0.0|             null|     0.0|           167.0|              159.0|   125.0|   925.0|         null|         null|     null|          null|               null|null|        0|\n",
      "|2018|      2|    4|          24|          2|               UA|  N56859|             2042|   DCA| SFO|         755|     749|     -6.0|    16.0|    4.0|        1100|    1023|    -37.0|      0.0|             null|     0.0|           365.0|              334.0|   314.0|  2442.0|         null|         null|     null|          null|               null|null|        0|\n",
      "|2018|      2|    4|          24|          2|               UA|  N510UA|             2041|   LAX| EWR|         600|     603|      3.0|    21.0|    6.0|        1414|    1418|      4.0|      0.0|             null|     0.0|           314.0|              315.0|   288.0|  2454.0|         null|         null|     null|          null|               null|null|        0|\n",
      "|2018|      2|    4|          24|          2|               UA|  N436UA|             2040|   IAH| FLL|        1015|    1008|     -7.0|    14.0|    4.0|        1342|    1323|    -19.0|      0.0|             null|     0.0|           147.0|              135.0|   117.0|   966.0|         null|         null|     null|          null|               null|null|        0|\n",
      "|2018|      2|    4|          24|          2|               UA|  N77865|             2039|   LAX| ORD|         820|     820|      0.0|    32.0|   14.0|        1427|    1425|     -2.0|      0.0|             null|     0.0|           247.0|              245.0|   199.0|  1744.0|         null|         null|     null|          null|               null|null|        0|\n",
      "+----+-------+-----+------------+-----------+-----------------+--------+-----------------+------+----+------------+--------+---------+--------+-------+------------+--------+---------+---------+-----------------+--------+----------------+-------------------+--------+--------+-------------+-------------+---------+--------------+-------------------+----+---------+\n",
      "only showing top 20 rows\n",
      "\n"
     ]
    }
   ],
   "source": [
    "Delay15 = dfa.withColumn(\"DEP_DEL15\",when(dfa.DEP_DELAY > 15,1).otherwise(0))\n",
    "Delay15.show()"
   ]
  },
  {
   "cell_type": "code",
   "execution_count": 37,
   "metadata": {},
   "outputs": [
    {
     "name": "stdout",
     "output_type": "stream",
     "text": [
      "+---------+\n",
      "|DEP_DEL15|\n",
      "+---------+\n",
      "|        1|\n",
      "|        1|\n",
      "|        1|\n",
      "|        1|\n",
      "|        1|\n",
      "|        1|\n",
      "|        1|\n",
      "|        1|\n",
      "|        1|\n",
      "|        1|\n",
      "|        1|\n",
      "|        1|\n",
      "|        1|\n",
      "|        1|\n",
      "|        1|\n",
      "|        1|\n",
      "|        1|\n",
      "|        1|\n",
      "|        1|\n",
      "|        1|\n",
      "|        1|\n",
      "|        1|\n",
      "|        1|\n",
      "|        1|\n",
      "|        1|\n",
      "|        1|\n",
      "|        1|\n",
      "|        1|\n",
      "|        1|\n",
      "|        1|\n",
      "|        1|\n",
      "|        1|\n",
      "|        1|\n",
      "|        1|\n",
      "|        1|\n",
      "|        1|\n",
      "|        1|\n",
      "|        1|\n",
      "|        1|\n",
      "|        1|\n",
      "|        1|\n",
      "|        1|\n",
      "|        1|\n",
      "|        1|\n",
      "|        1|\n",
      "|        1|\n",
      "|        1|\n",
      "|        1|\n",
      "|        1|\n",
      "|        1|\n",
      "+---------+\n",
      "only showing top 50 rows\n",
      "\n"
     ]
    }
   ],
   "source": [
    "test2 = spark.sql(\"SELECT DEP_DEL15 from Airline1 where DEP_DELAY > 15\")\n",
    "\n",
    "test2.show(50)"
   ]
  },
  {
   "cell_type": "code",
   "execution_count": 38,
   "metadata": {},
   "outputs": [],
   "source": [
    "Delay15.createOrReplaceTempView(\"Airline1\")"
   ]
  },
  {
   "cell_type": "code",
   "execution_count": 39,
   "metadata": {},
   "outputs": [
    {
     "name": "stdout",
     "output_type": "stream",
     "text": [
      "+---------+\n",
      "|DEP_DEL15|\n",
      "+---------+\n",
      "|        0|\n",
      "|        0|\n",
      "|        0|\n",
      "|        0|\n",
      "|        0|\n",
      "|        0|\n",
      "|        0|\n",
      "|        0|\n",
      "|        0|\n",
      "|        0|\n",
      "|        0|\n",
      "|        0|\n",
      "|        0|\n",
      "|        0|\n",
      "|        0|\n",
      "|        0|\n",
      "|        0|\n",
      "|        0|\n",
      "|        0|\n",
      "|        0|\n",
      "|        0|\n",
      "|        0|\n",
      "|        0|\n",
      "|        0|\n",
      "|        0|\n",
      "|        0|\n",
      "|        0|\n",
      "|        0|\n",
      "|        0|\n",
      "|        0|\n",
      "|        0|\n",
      "|        0|\n",
      "|        0|\n",
      "|        0|\n",
      "|        0|\n",
      "|        0|\n",
      "|        0|\n",
      "|        0|\n",
      "|        0|\n",
      "|        0|\n",
      "|        0|\n",
      "|        0|\n",
      "|        0|\n",
      "|        0|\n",
      "|        0|\n",
      "|        0|\n",
      "|        0|\n",
      "|        0|\n",
      "|        0|\n",
      "|        0|\n",
      "+---------+\n",
      "only showing top 50 rows\n",
      "\n"
     ]
    }
   ],
   "source": [
    "test3 = spark.sql(\"SELECT DEP_DEL15 from Airline1 where DEP_DELAY < 15\")\n",
    "\n",
    "test3.show(50)"
   ]
  },
  {
   "cell_type": "code",
   "execution_count": 40,
   "metadata": {},
   "outputs": [
    {
     "name": "stdout",
     "output_type": "stream",
     "text": [
      "+-------+--------------+------------------+\n",
      "|  Route|sum(DEP_DEL15)|    avg(DEP_DELAY)|\n",
      "+-------+--------------+------------------+\n",
      "|ORD-LGA|          7625|20.180804432443807|\n",
      "|LAX-SFO|          6650|13.238669744020143|\n",
      "|LGA-ORD|          6508|18.694583874477868|\n",
      "|SFO-LAX|          5562| 10.58283858350213|\n",
      "|LAX-JFK|          4777|11.626711382915763|\n",
      "|BOS-LGA|          4566|16.692887764061773|\n",
      "|MCO-EWR|          4475|27.083448526736994|\n",
      "|SEA-SFO|          4443|14.466033801580334|\n",
      "|LGA-BOS|          4392|15.519232747094518|\n",
      "|ATL-LGA|          4384|14.850805372719002|\n",
      "+-------+--------------+------------------+\n",
      "only showing top 10 rows\n",
      "\n"
     ]
    }
   ],
   "source": [
    "# Origin city to Destination Delay\n",
    "dfrod= spark.sql(\"SELECT concat(ORIGIN,'-' ,DEST) as Route, DEP_DEL15, DEP_DELAY, CANCELLED from Airline1 where CANCELLED=0\")\n",
    "\n",
    "\n",
    "#Display route with most delays and avg delay\n",
    "dfrod.groupby('Route').agg({'DEP_DEL15': 'sum','DEP_DELAY': 'avg'}).orderBy('sum(DEP_DEL15)', ascending= False).show(10)"
   ]
  },
  {
   "cell_type": "code",
   "execution_count": 82,
   "metadata": {},
   "outputs": [
    {
     "name": "stdout",
     "output_type": "stream",
     "text": [
      "+------+------+\n",
      "|ORIGIN| count|\n",
      "+------+------+\n",
      "|   ATL|781668|\n",
      "|   ORD|671038|\n",
      "|   DFW|583910|\n",
      "|   DEN|488330|\n",
      "|   CLT|468298|\n",
      "|   LAX|440613|\n",
      "|   IAH|352271|\n",
      "|   PHX|347026|\n",
      "|   SFO|345978|\n",
      "|   LGA|340673|\n",
      "|   LAS|323737|\n",
      "|   MSP|318856|\n",
      "|   DTW|318729|\n",
      "|   BOS|297804|\n",
      "|   SEA|284242|\n",
      "|   MCO|280172|\n",
      "|   EWR|278887|\n",
      "|   DCA|270107|\n",
      "|   JFK|255764|\n",
      "|   PHL|235712|\n",
      "|   SLC|228019|\n",
      "|   BWI|211429|\n",
      "|   FLL|195313|\n",
      "|   SAN|183756|\n",
      "|   MIA|177122|\n",
      "|   MDW|170245|\n",
      "|   BNA|156372|\n",
      "|   TPA|150344|\n",
      "|   DAL|144587|\n",
      "|   IAD|137699|\n",
      "+------+------+\n",
      "only showing top 30 rows\n",
      "\n"
     ]
    }
   ],
   "source": [
    "t=dfa.groupBy(\"ORIGIN\").count()\n",
    "t.sort(desc(\"count\")).show(30)\n"
   ]
  },
  {
   "cell_type": "code",
   "execution_count": 54,
   "metadata": {},
   "outputs": [
    {
     "name": "stdout",
     "output_type": "stream",
     "text": [
      "+----+-------+-----+------------+-----------+-----------------+--------+-----------------+------+----+------------+--------+---------+--------+-------+------------+--------+---------+---------+-----------------+--------+----------------+-------------------+--------+--------+-------------+-------------+---------+--------------+-------------------+----+---------+\n",
      "|YEAR|QUARTER|MONTH|DAY_OF_MONTH|DAY_OF_WEEK|OP_UNIQUE_CARRIER|TAIL_NUM|OP_CARRIER_FL_NUM|ORIGIN|DEST|CRS_DEP_TIME|DEP_TIME|DEP_DELAY|TAXI_OUT|TAXI_IN|CRS_ARR_TIME|ARR_TIME|ARR_DELAY|CANCELLED|CANCELLATION_CODE|DIVERTED|CRS_ELAPSED_TIME|ACTUAL_ELAPSED_TIME|AIR_TIME|DISTANCE|CARRIER_DELAY|WEATHER_DELAY|NAS_DELAY|SECURITY_DELAY|LATE_AIRCRAFT_DELAY|_c30|DEP_DEL15|\n",
      "+----+-------+-----+------------+-----------+-----------------+--------+-----------------+------+----+------------+--------+---------+--------+-------+------------+--------+---------+---------+-----------------+--------+----------------+-------------------+--------+--------+-------------+-------------+---------+--------------+-------------------+----+---------+\n",
      "|2018|      2|    4|          24|          2|               UA|  N18243|             2055|   SFO| PDX|        1200|    1155|     -5.0|    37.0|    4.0|        1351|    1351|      0.0|      0.0|             null|     0.0|           111.0|              116.0|    75.0|   550.0|         null|         null|     null|          null|               null|null|        0|\n",
      "|2018|      2|    4|          24|          2|               UA|  N18243|             2054|   PDX| SFO|        1442|    1436|     -6.0|    11.0|    9.0|        1632|    1621|    -11.0|      0.0|             null|     0.0|           110.0|              105.0|    85.0|   550.0|         null|         null|     null|          null|               null|null|        0|\n",
      "|2018|      2|    4|          24|          2|               UA|  N12218|             2053|   MCO| IAH|        1708|    1658|    -10.0|    13.0|    8.0|        1848|    1831|    -17.0|      0.0|             null|     0.0|           160.0|              153.0|   132.0|   854.0|         null|         null|     null|          null|               null|null|        0|\n",
      "|2018|      2|    4|          24|          2|               UA|  N851UA|             2052|   FAT| SFO|         605|     558|     -7.0|    11.0|   15.0|         702|     655|     -7.0|      0.0|             null|     0.0|            57.0|               57.0|    31.0|   158.0|         null|         null|     null|          null|               null|null|        0|\n",
      "|2018|      2|    4|          24|          2|               UA|  N431UA|             2051|   TPA| SFO|         805|     758|     -7.0|    15.0|    6.0|        1101|    1041|    -20.0|      0.0|             null|     0.0|           356.0|              343.0|   322.0|  2393.0|         null|         null|     null|          null|               null|null|        0|\n",
      "|2018|      2|    4|          24|          2|               UA|  N37290|             2050|   MYR| EWR|        1307|    1302|     -5.0|    35.0|    4.0|        1500|    1502|      2.0|      0.0|             null|     0.0|           113.0|              120.0|    81.0|   550.0|         null|         null|     null|          null|               null|null|        0|\n",
      "|2018|      2|    4|          24|          2|               UA|  N34222|             2049|   DEN| IAH|        1523|    1517|     -6.0|    17.0|    9.0|        1846|    1838|     -8.0|      0.0|             null|     0.0|           143.0|              141.0|   115.0|   862.0|         null|         null|     null|          null|               null|null|        0|\n",
      "|2018|      2|    4|          24|          2|               UA|  N78540|             2049|   LAX| DEN|        1050|    1043|     -7.0|    33.0|    7.0|        1418|    1411|     -7.0|      0.0|             null|     0.0|           148.0|              148.0|   108.0|   862.0|         null|         null|     null|          null|               null|null|        0|\n",
      "|2018|      2|    4|          24|          2|               UA|  N457UA|             2048|   LAX| LAS|        1950|    1947|     -3.0|    18.0|    5.0|        2107|    2056|    -11.0|      0.0|             null|     0.0|            77.0|               69.0|    46.0|   236.0|         null|         null|     null|          null|               null|null|        0|\n",
      "|2018|      2|    4|          24|          2|               UA|  N15710|             2047|   BOS| EWR|        1922|    1913|     -9.0|    21.0|    6.0|        2050|    2032|    -18.0|      0.0|             null|     0.0|            88.0|               79.0|    52.0|   200.0|         null|         null|     null|          null|               null|null|        0|\n",
      "|2018|      2|    4|          24|          2|               UA|  N11206|             2047|   IAH| BOS|        1304|    1259|     -5.0|    15.0|    3.0|        1754|    1734|    -20.0|      0.0|             null|     0.0|           230.0|              215.0|   197.0|  1597.0|         null|         null|     null|          null|               null|null|        0|\n",
      "|2018|      2|    4|          24|          2|               UA|  N75858|             2046|   SFO| DCA|        1252|    1246|     -6.0|    21.0|   14.0|        2100|    2100|      0.0|      0.0|             null|     0.0|           308.0|              314.0|   279.0|  2442.0|         null|         null|     null|          null|               null|null|        0|\n",
      "|2018|      2|    4|          24|          2|               UA|  N77430|             2045|   BOS| IAH|        1707|    1701|     -6.0|    19.0|   14.0|        2023|    2002|    -21.0|      0.0|             null|     0.0|           256.0|              241.0|   208.0|  1597.0|         null|         null|     null|          null|               null|null|        0|\n",
      "|2018|      2|    4|          24|          2|               UA|  N897UA|             2045|   EWR| BOS|        1400|    1353|     -7.0|    16.0|    4.0|        1509|    1457|    -12.0|      0.0|             null|     0.0|            69.0|               64.0|    44.0|   200.0|         null|         null|     null|          null|               null|null|        0|\n",
      "|2018|      2|    4|          24|          2|               UA|  N17752|             2044|   SMF| IAH|         535|     530|     -5.0|    13.0|   10.0|        1110|    1111|      1.0|      0.0|             null|     0.0|           215.0|              221.0|   198.0|  1609.0|         null|         null|     null|          null|               null|null|        0|\n",
      "|2018|      2|    4|          24|          2|               UA|  N33264|             2043|   ORD| IAH|         601|     556|     -5.0|    26.0|    8.0|         848|     835|    -13.0|      0.0|             null|     0.0|           167.0|              159.0|   125.0|   925.0|         null|         null|     null|          null|               null|null|        0|\n",
      "|2018|      2|    4|          24|          2|               UA|  N56859|             2042|   DCA| SFO|         755|     749|     -6.0|    16.0|    4.0|        1100|    1023|    -37.0|      0.0|             null|     0.0|           365.0|              334.0|   314.0|  2442.0|         null|         null|     null|          null|               null|null|        0|\n",
      "|2018|      2|    4|          24|          2|               UA|  N510UA|             2041|   LAX| EWR|         600|     603|      3.0|    21.0|    6.0|        1414|    1418|      4.0|      0.0|             null|     0.0|           314.0|              315.0|   288.0|  2454.0|         null|         null|     null|          null|               null|null|        0|\n",
      "|2018|      2|    4|          24|          2|               UA|  N436UA|             2040|   IAH| FLL|        1015|    1008|     -7.0|    14.0|    4.0|        1342|    1323|    -19.0|      0.0|             null|     0.0|           147.0|              135.0|   117.0|   966.0|         null|         null|     null|          null|               null|null|        0|\n",
      "|2018|      2|    4|          24|          2|               UA|  N77865|             2039|   LAX| ORD|         820|     820|      0.0|    32.0|   14.0|        1427|    1425|     -2.0|      0.0|             null|     0.0|           247.0|              245.0|   199.0|  1744.0|         null|         null|     null|          null|               null|null|        0|\n",
      "+----+-------+-----+------------+-----------+-----------------+--------+-----------------+------+----+------------+--------+---------+--------+-------+------------+--------+---------+---------+-----------------+--------+----------------+-------------------+--------+--------+-------------+-------------+---------+--------------+-------------------+----+---------+\n",
      "only showing top 20 rows\n",
      "\n"
     ]
    }
   ],
   "source": [
    "test4.show()"
   ]
  },
  {
   "cell_type": "code",
   "execution_count": 81,
   "metadata": {},
   "outputs": [
    {
     "ename": "NameError",
     "evalue": "name 'Airline1' is not defined",
     "output_type": "error",
     "traceback": [
      "\u001b[0;31m---------------------------------------------------------------------------\u001b[0m",
      "\u001b[0;31mNameError\u001b[0m                                 Traceback (most recent call last)",
      "\u001b[0;32m<ipython-input-81-20df5f2ae0e7>\u001b[0m in \u001b[0;36m<module>\u001b[0;34m\u001b[0m\n\u001b[0;32m----> 1\u001b[0;31m HighLowtraffic_column = Airline1.withColumn(\"HighLowTrafficOrigin\",\n\u001b[0m\u001b[1;32m      2\u001b[0m       expr(\"case when ORIGIN = 'ATL' then 1 \" +\n\u001b[1;32m      3\u001b[0m                        \u001b[0;34m\"when ORIGIN = 'ORD' then 1 \"\u001b[0m \u001b[0;34m+\u001b[0m\u001b[0;34m\u001b[0m\u001b[0;34m\u001b[0m\u001b[0m\n\u001b[1;32m      4\u001b[0m                        \"else 0 end\"))\n\u001b[1;32m      5\u001b[0m \u001b[0mHighLowtraffic_column\u001b[0m\u001b[0;34m.\u001b[0m\u001b[0mshow\u001b[0m\u001b[0;34m(\u001b[0m\u001b[0;36m10\u001b[0m\u001b[0;34m)\u001b[0m\u001b[0;34m\u001b[0m\u001b[0;34m\u001b[0m\u001b[0m\n",
      "\u001b[0;31mNameError\u001b[0m: name 'Airline1' is not defined"
     ]
    }
   ],
   "source": [
    "HighLowtraffic_column = dfa.withColumn(\"HighLowTrafficOrigin\",\n",
    "      expr(\"case when ORIGIN = 'ATL' then 1 \" +\n",
    "                       \"when ORIGIN = 'ORD' then 1 \" +\n",
    "                       \"else 0 end\"))\n",
    "HighLowtraffic_column.show(10)"
   ]
  },
  {
   "cell_type": "code",
   "execution_count": 79,
   "metadata": {},
   "outputs": [
    {
     "name": "stdout",
     "output_type": "stream",
     "text": [
      "+----+-------+-----+------------+-----------+-----------------+--------+-----------------+------+----+------------+--------+---------+--------+-------+------------+--------+---------+---------+-----------------+--------+----------------+-------------------+--------+--------+-------------+-------------+---------+--------------+-------------------+----+--------------------+\n",
      "|YEAR|QUARTER|MONTH|DAY_OF_MONTH|DAY_OF_WEEK|OP_UNIQUE_CARRIER|TAIL_NUM|OP_CARRIER_FL_NUM|ORIGIN|DEST|CRS_DEP_TIME|DEP_TIME|DEP_DELAY|TAXI_OUT|TAXI_IN|CRS_ARR_TIME|ARR_TIME|ARR_DELAY|CANCELLED|CANCELLATION_CODE|DIVERTED|CRS_ELAPSED_TIME|ACTUAL_ELAPSED_TIME|AIR_TIME|DISTANCE|CARRIER_DELAY|WEATHER_DELAY|NAS_DELAY|SECURITY_DELAY|LATE_AIRCRAFT_DELAY|_c30|HighLowTrafficOrigin|\n",
      "+----+-------+-----+------------+-----------+-----------------+--------+-----------------+------+----+------------+--------+---------+--------+-------+------------+--------+---------+---------+-----------------+--------+----------------+-------------------+--------+--------+-------------+-------------+---------+--------------+-------------------+----+--------------------+\n",
      "|2018|      2|    4|          24|          2|               UA|  N18243|             2055|   SFO| PDX|        1200|    1155|     -5.0|    37.0|    4.0|        1351|    1351|      0.0|      0.0|             null|     0.0|           111.0|              116.0|    75.0|   550.0|         null|         null|     null|          null|               null|null|                   0|\n",
      "|2018|      2|    4|          24|          2|               UA|  N18243|             2054|   PDX| SFO|        1442|    1436|     -6.0|    11.0|    9.0|        1632|    1621|    -11.0|      0.0|             null|     0.0|           110.0|              105.0|    85.0|   550.0|         null|         null|     null|          null|               null|null|                   0|\n",
      "|2018|      2|    4|          24|          2|               UA|  N12218|             2053|   MCO| IAH|        1708|    1658|    -10.0|    13.0|    8.0|        1848|    1831|    -17.0|      0.0|             null|     0.0|           160.0|              153.0|   132.0|   854.0|         null|         null|     null|          null|               null|null|                   0|\n",
      "|2018|      2|    4|          24|          2|               UA|  N851UA|             2052|   FAT| SFO|         605|     558|     -7.0|    11.0|   15.0|         702|     655|     -7.0|      0.0|             null|     0.0|            57.0|               57.0|    31.0|   158.0|         null|         null|     null|          null|               null|null|                   0|\n",
      "|2018|      2|    4|          24|          2|               UA|  N431UA|             2051|   TPA| SFO|         805|     758|     -7.0|    15.0|    6.0|        1101|    1041|    -20.0|      0.0|             null|     0.0|           356.0|              343.0|   322.0|  2393.0|         null|         null|     null|          null|               null|null|                   0|\n",
      "|2018|      2|    4|          24|          2|               UA|  N37290|             2050|   MYR| EWR|        1307|    1302|     -5.0|    35.0|    4.0|        1500|    1502|      2.0|      0.0|             null|     0.0|           113.0|              120.0|    81.0|   550.0|         null|         null|     null|          null|               null|null|                   0|\n",
      "|2018|      2|    4|          24|          2|               UA|  N34222|             2049|   DEN| IAH|        1523|    1517|     -6.0|    17.0|    9.0|        1846|    1838|     -8.0|      0.0|             null|     0.0|           143.0|              141.0|   115.0|   862.0|         null|         null|     null|          null|               null|null|                   0|\n",
      "|2018|      2|    4|          24|          2|               UA|  N78540|             2049|   LAX| DEN|        1050|    1043|     -7.0|    33.0|    7.0|        1418|    1411|     -7.0|      0.0|             null|     0.0|           148.0|              148.0|   108.0|   862.0|         null|         null|     null|          null|               null|null|                   0|\n",
      "|2018|      2|    4|          24|          2|               UA|  N457UA|             2048|   LAX| LAS|        1950|    1947|     -3.0|    18.0|    5.0|        2107|    2056|    -11.0|      0.0|             null|     0.0|            77.0|               69.0|    46.0|   236.0|         null|         null|     null|          null|               null|null|                   0|\n",
      "|2018|      2|    4|          24|          2|               UA|  N15710|             2047|   BOS| EWR|        1922|    1913|     -9.0|    21.0|    6.0|        2050|    2032|    -18.0|      0.0|             null|     0.0|            88.0|               79.0|    52.0|   200.0|         null|         null|     null|          null|               null|null|                   0|\n",
      "+----+-------+-----+------------+-----------+-----------------+--------+-----------------+------+----+------------+--------+---------+--------+-------+------------+--------+---------+---------+-----------------+--------+----------------+-------------------+--------+--------+-------------+-------------+---------+--------------+-------------------+----+--------------------+\n",
      "only showing top 10 rows\n",
      "\n"
     ]
    }
   ],
   "source": [
    "test5 = spark.sql(\"SELECT * from Airline2\").show(10)\n"
   ]
  },
  {
   "cell_type": "code",
   "execution_count": 77,
   "metadata": {},
   "outputs": [],
   "source": [
    "Delay15.createOrReplaceTempView(\"Airline2\")"
   ]
  },
  {
   "cell_type": "code",
   "execution_count": 78,
   "metadata": {},
   "outputs": [],
   "source": [
    "HighLowtraffic_column.createOrReplaceTempView(\"Airline2\")"
   ]
  },
  {
   "cell_type": "code",
   "execution_count": 80,
   "metadata": {},
   "outputs": [
    {
     "data": {
      "text/plain": [
       "[Row(YEAR=2018, QUARTER=2, MONTH=4, DAY_OF_MONTH=24, DAY_OF_WEEK=2, OP_UNIQUE_CARRIER='UA', TAIL_NUM='N18243', OP_CARRIER_FL_NUM=2055, ORIGIN='SFO', DEST='PDX', CRS_DEP_TIME=1200, DEP_TIME=1155, DEP_DELAY=-5.0, TAXI_OUT=37.0, TAXI_IN=4.0, CRS_ARR_TIME=1351, ARR_TIME=1351, ARR_DELAY=0.0, CANCELLED=0.0, CANCELLATION_CODE=None, DIVERTED=0.0, CRS_ELAPSED_TIME=111.0, ACTUAL_ELAPSED_TIME=116.0, AIR_TIME=75.0, DISTANCE=550.0, CARRIER_DELAY=None, WEATHER_DELAY=None, NAS_DELAY=None, SECURITY_DELAY=None, LATE_AIRCRAFT_DELAY=None, _c30=None),\n",
       " Row(YEAR=2018, QUARTER=2, MONTH=4, DAY_OF_MONTH=24, DAY_OF_WEEK=2, OP_UNIQUE_CARRIER='UA', TAIL_NUM='N18243', OP_CARRIER_FL_NUM=2054, ORIGIN='PDX', DEST='SFO', CRS_DEP_TIME=1442, DEP_TIME=1436, DEP_DELAY=-6.0, TAXI_OUT=11.0, TAXI_IN=9.0, CRS_ARR_TIME=1632, ARR_TIME=1621, ARR_DELAY=-11.0, CANCELLED=0.0, CANCELLATION_CODE=None, DIVERTED=0.0, CRS_ELAPSED_TIME=110.0, ACTUAL_ELAPSED_TIME=105.0, AIR_TIME=85.0, DISTANCE=550.0, CARRIER_DELAY=None, WEATHER_DELAY=None, NAS_DELAY=None, SECURITY_DELAY=None, LATE_AIRCRAFT_DELAY=None, _c30=None),\n",
       " Row(YEAR=2018, QUARTER=2, MONTH=4, DAY_OF_MONTH=24, DAY_OF_WEEK=2, OP_UNIQUE_CARRIER='UA', TAIL_NUM='N12218', OP_CARRIER_FL_NUM=2053, ORIGIN='MCO', DEST='IAH', CRS_DEP_TIME=1708, DEP_TIME=1658, DEP_DELAY=-10.0, TAXI_OUT=13.0, TAXI_IN=8.0, CRS_ARR_TIME=1848, ARR_TIME=1831, ARR_DELAY=-17.0, CANCELLED=0.0, CANCELLATION_CODE=None, DIVERTED=0.0, CRS_ELAPSED_TIME=160.0, ACTUAL_ELAPSED_TIME=153.0, AIR_TIME=132.0, DISTANCE=854.0, CARRIER_DELAY=None, WEATHER_DELAY=None, NAS_DELAY=None, SECURITY_DELAY=None, LATE_AIRCRAFT_DELAY=None, _c30=None),\n",
       " Row(YEAR=2018, QUARTER=2, MONTH=4, DAY_OF_MONTH=24, DAY_OF_WEEK=2, OP_UNIQUE_CARRIER='UA', TAIL_NUM='N851UA', OP_CARRIER_FL_NUM=2052, ORIGIN='FAT', DEST='SFO', CRS_DEP_TIME=605, DEP_TIME=558, DEP_DELAY=-7.0, TAXI_OUT=11.0, TAXI_IN=15.0, CRS_ARR_TIME=702, ARR_TIME=655, ARR_DELAY=-7.0, CANCELLED=0.0, CANCELLATION_CODE=None, DIVERTED=0.0, CRS_ELAPSED_TIME=57.0, ACTUAL_ELAPSED_TIME=57.0, AIR_TIME=31.0, DISTANCE=158.0, CARRIER_DELAY=None, WEATHER_DELAY=None, NAS_DELAY=None, SECURITY_DELAY=None, LATE_AIRCRAFT_DELAY=None, _c30=None),\n",
       " Row(YEAR=2018, QUARTER=2, MONTH=4, DAY_OF_MONTH=24, DAY_OF_WEEK=2, OP_UNIQUE_CARRIER='UA', TAIL_NUM='N431UA', OP_CARRIER_FL_NUM=2051, ORIGIN='TPA', DEST='SFO', CRS_DEP_TIME=805, DEP_TIME=758, DEP_DELAY=-7.0, TAXI_OUT=15.0, TAXI_IN=6.0, CRS_ARR_TIME=1101, ARR_TIME=1041, ARR_DELAY=-20.0, CANCELLED=0.0, CANCELLATION_CODE=None, DIVERTED=0.0, CRS_ELAPSED_TIME=356.0, ACTUAL_ELAPSED_TIME=343.0, AIR_TIME=322.0, DISTANCE=2393.0, CARRIER_DELAY=None, WEATHER_DELAY=None, NAS_DELAY=None, SECURITY_DELAY=None, LATE_AIRCRAFT_DELAY=None, _c30=None),\n",
       " Row(YEAR=2018, QUARTER=2, MONTH=4, DAY_OF_MONTH=24, DAY_OF_WEEK=2, OP_UNIQUE_CARRIER='UA', TAIL_NUM='N37290', OP_CARRIER_FL_NUM=2050, ORIGIN='MYR', DEST='EWR', CRS_DEP_TIME=1307, DEP_TIME=1302, DEP_DELAY=-5.0, TAXI_OUT=35.0, TAXI_IN=4.0, CRS_ARR_TIME=1500, ARR_TIME=1502, ARR_DELAY=2.0, CANCELLED=0.0, CANCELLATION_CODE=None, DIVERTED=0.0, CRS_ELAPSED_TIME=113.0, ACTUAL_ELAPSED_TIME=120.0, AIR_TIME=81.0, DISTANCE=550.0, CARRIER_DELAY=None, WEATHER_DELAY=None, NAS_DELAY=None, SECURITY_DELAY=None, LATE_AIRCRAFT_DELAY=None, _c30=None),\n",
       " Row(YEAR=2018, QUARTER=2, MONTH=4, DAY_OF_MONTH=24, DAY_OF_WEEK=2, OP_UNIQUE_CARRIER='UA', TAIL_NUM='N34222', OP_CARRIER_FL_NUM=2049, ORIGIN='DEN', DEST='IAH', CRS_DEP_TIME=1523, DEP_TIME=1517, DEP_DELAY=-6.0, TAXI_OUT=17.0, TAXI_IN=9.0, CRS_ARR_TIME=1846, ARR_TIME=1838, ARR_DELAY=-8.0, CANCELLED=0.0, CANCELLATION_CODE=None, DIVERTED=0.0, CRS_ELAPSED_TIME=143.0, ACTUAL_ELAPSED_TIME=141.0, AIR_TIME=115.0, DISTANCE=862.0, CARRIER_DELAY=None, WEATHER_DELAY=None, NAS_DELAY=None, SECURITY_DELAY=None, LATE_AIRCRAFT_DELAY=None, _c30=None),\n",
       " Row(YEAR=2018, QUARTER=2, MONTH=4, DAY_OF_MONTH=24, DAY_OF_WEEK=2, OP_UNIQUE_CARRIER='UA', TAIL_NUM='N78540', OP_CARRIER_FL_NUM=2049, ORIGIN='LAX', DEST='DEN', CRS_DEP_TIME=1050, DEP_TIME=1043, DEP_DELAY=-7.0, TAXI_OUT=33.0, TAXI_IN=7.0, CRS_ARR_TIME=1418, ARR_TIME=1411, ARR_DELAY=-7.0, CANCELLED=0.0, CANCELLATION_CODE=None, DIVERTED=0.0, CRS_ELAPSED_TIME=148.0, ACTUAL_ELAPSED_TIME=148.0, AIR_TIME=108.0, DISTANCE=862.0, CARRIER_DELAY=None, WEATHER_DELAY=None, NAS_DELAY=None, SECURITY_DELAY=None, LATE_AIRCRAFT_DELAY=None, _c30=None),\n",
       " Row(YEAR=2018, QUARTER=2, MONTH=4, DAY_OF_MONTH=24, DAY_OF_WEEK=2, OP_UNIQUE_CARRIER='UA', TAIL_NUM='N457UA', OP_CARRIER_FL_NUM=2048, ORIGIN='LAX', DEST='LAS', CRS_DEP_TIME=1950, DEP_TIME=1947, DEP_DELAY=-3.0, TAXI_OUT=18.0, TAXI_IN=5.0, CRS_ARR_TIME=2107, ARR_TIME=2056, ARR_DELAY=-11.0, CANCELLED=0.0, CANCELLATION_CODE=None, DIVERTED=0.0, CRS_ELAPSED_TIME=77.0, ACTUAL_ELAPSED_TIME=69.0, AIR_TIME=46.0, DISTANCE=236.0, CARRIER_DELAY=None, WEATHER_DELAY=None, NAS_DELAY=None, SECURITY_DELAY=None, LATE_AIRCRAFT_DELAY=None, _c30=None),\n",
       " Row(YEAR=2018, QUARTER=2, MONTH=4, DAY_OF_MONTH=24, DAY_OF_WEEK=2, OP_UNIQUE_CARRIER='UA', TAIL_NUM='N15710', OP_CARRIER_FL_NUM=2047, ORIGIN='BOS', DEST='EWR', CRS_DEP_TIME=1922, DEP_TIME=1913, DEP_DELAY=-9.0, TAXI_OUT=21.0, TAXI_IN=6.0, CRS_ARR_TIME=2050, ARR_TIME=2032, ARR_DELAY=-18.0, CANCELLED=0.0, CANCELLATION_CODE=None, DIVERTED=0.0, CRS_ELAPSED_TIME=88.0, ACTUAL_ELAPSED_TIME=79.0, AIR_TIME=52.0, DISTANCE=200.0, CARRIER_DELAY=None, WEATHER_DELAY=None, NAS_DELAY=None, SECURITY_DELAY=None, LATE_AIRCRAFT_DELAY=None, _c30=None)]"
      ]
     },
     "execution_count": 80,
     "metadata": {},
     "output_type": "execute_result"
    }
   ],
   "source": [
    "dfa.head(10)"
   ]
  },
  {
   "cell_type": "code",
   "execution_count": 83,
   "metadata": {},
   "outputs": [
    {
     "name": "stdout",
     "output_type": "stream",
     "text": [
      "+----+-------+-----+------------+-----------+-----------------+--------+-----------------+------+----+------------+--------+---------+--------+-------+------------+--------+---------+---------+-----------------+--------+----------------+-------------------+--------+--------+-------------+-------------+---------+--------------+-------------------+----+---------+--------------------+\n",
      "|YEAR|QUARTER|MONTH|DAY_OF_MONTH|DAY_OF_WEEK|OP_UNIQUE_CARRIER|TAIL_NUM|OP_CARRIER_FL_NUM|ORIGIN|DEST|CRS_DEP_TIME|DEP_TIME|DEP_DELAY|TAXI_OUT|TAXI_IN|CRS_ARR_TIME|ARR_TIME|ARR_DELAY|CANCELLED|CANCELLATION_CODE|DIVERTED|CRS_ELAPSED_TIME|ACTUAL_ELAPSED_TIME|AIR_TIME|DISTANCE|CARRIER_DELAY|WEATHER_DELAY|NAS_DELAY|SECURITY_DELAY|LATE_AIRCRAFT_DELAY|_c30|DEP_DEL15|HighLowTrafficOrigin|\n",
      "+----+-------+-----+------------+-----------+-----------------+--------+-----------------+------+----+------------+--------+---------+--------+-------+------------+--------+---------+---------+-----------------+--------+----------------+-------------------+--------+--------+-------------+-------------+---------+--------------+-------------------+----+---------+--------------------+\n",
      "|2018|      2|    4|          24|          2|               UA|  N18243|             2055|   SFO| PDX|        1200|    1155|     -5.0|    37.0|    4.0|        1351|    1351|      0.0|      0.0|             null|     0.0|           111.0|              116.0|    75.0|   550.0|         null|         null|     null|          null|               null|null|        0|                   1|\n",
      "|2018|      2|    4|          24|          2|               UA|  N18243|             2054|   PDX| SFO|        1442|    1436|     -6.0|    11.0|    9.0|        1632|    1621|    -11.0|      0.0|             null|     0.0|           110.0|              105.0|    85.0|   550.0|         null|         null|     null|          null|               null|null|        0|                   0|\n",
      "|2018|      2|    4|          24|          2|               UA|  N12218|             2053|   MCO| IAH|        1708|    1658|    -10.0|    13.0|    8.0|        1848|    1831|    -17.0|      0.0|             null|     0.0|           160.0|              153.0|   132.0|   854.0|         null|         null|     null|          null|               null|null|        0|                   0|\n",
      "|2018|      2|    4|          24|          2|               UA|  N851UA|             2052|   FAT| SFO|         605|     558|     -7.0|    11.0|   15.0|         702|     655|     -7.0|      0.0|             null|     0.0|            57.0|               57.0|    31.0|   158.0|         null|         null|     null|          null|               null|null|        0|                   0|\n",
      "|2018|      2|    4|          24|          2|               UA|  N431UA|             2051|   TPA| SFO|         805|     758|     -7.0|    15.0|    6.0|        1101|    1041|    -20.0|      0.0|             null|     0.0|           356.0|              343.0|   322.0|  2393.0|         null|         null|     null|          null|               null|null|        0|                   0|\n",
      "|2018|      2|    4|          24|          2|               UA|  N37290|             2050|   MYR| EWR|        1307|    1302|     -5.0|    35.0|    4.0|        1500|    1502|      2.0|      0.0|             null|     0.0|           113.0|              120.0|    81.0|   550.0|         null|         null|     null|          null|               null|null|        0|                   0|\n",
      "|2018|      2|    4|          24|          2|               UA|  N34222|             2049|   DEN| IAH|        1523|    1517|     -6.0|    17.0|    9.0|        1846|    1838|     -8.0|      0.0|             null|     0.0|           143.0|              141.0|   115.0|   862.0|         null|         null|     null|          null|               null|null|        0|                   1|\n",
      "|2018|      2|    4|          24|          2|               UA|  N78540|             2049|   LAX| DEN|        1050|    1043|     -7.0|    33.0|    7.0|        1418|    1411|     -7.0|      0.0|             null|     0.0|           148.0|              148.0|   108.0|   862.0|         null|         null|     null|          null|               null|null|        0|                   1|\n",
      "|2018|      2|    4|          24|          2|               UA|  N457UA|             2048|   LAX| LAS|        1950|    1947|     -3.0|    18.0|    5.0|        2107|    2056|    -11.0|      0.0|             null|     0.0|            77.0|               69.0|    46.0|   236.0|         null|         null|     null|          null|               null|null|        0|                   1|\n",
      "|2018|      2|    4|          24|          2|               UA|  N15710|             2047|   BOS| EWR|        1922|    1913|     -9.0|    21.0|    6.0|        2050|    2032|    -18.0|      0.0|             null|     0.0|            88.0|               79.0|    52.0|   200.0|         null|         null|     null|          null|               null|null|        0|                   0|\n",
      "|2018|      2|    4|          24|          2|               UA|  N11206|             2047|   IAH| BOS|        1304|    1259|     -5.0|    15.0|    3.0|        1754|    1734|    -20.0|      0.0|             null|     0.0|           230.0|              215.0|   197.0|  1597.0|         null|         null|     null|          null|               null|null|        0|                   1|\n",
      "|2018|      2|    4|          24|          2|               UA|  N75858|             2046|   SFO| DCA|        1252|    1246|     -6.0|    21.0|   14.0|        2100|    2100|      0.0|      0.0|             null|     0.0|           308.0|              314.0|   279.0|  2442.0|         null|         null|     null|          null|               null|null|        0|                   1|\n",
      "|2018|      2|    4|          24|          2|               UA|  N77430|             2045|   BOS| IAH|        1707|    1701|     -6.0|    19.0|   14.0|        2023|    2002|    -21.0|      0.0|             null|     0.0|           256.0|              241.0|   208.0|  1597.0|         null|         null|     null|          null|               null|null|        0|                   0|\n",
      "|2018|      2|    4|          24|          2|               UA|  N897UA|             2045|   EWR| BOS|        1400|    1353|     -7.0|    16.0|    4.0|        1509|    1457|    -12.0|      0.0|             null|     0.0|            69.0|               64.0|    44.0|   200.0|         null|         null|     null|          null|               null|null|        0|                   0|\n",
      "|2018|      2|    4|          24|          2|               UA|  N17752|             2044|   SMF| IAH|         535|     530|     -5.0|    13.0|   10.0|        1110|    1111|      1.0|      0.0|             null|     0.0|           215.0|              221.0|   198.0|  1609.0|         null|         null|     null|          null|               null|null|        0|                   0|\n",
      "|2018|      2|    4|          24|          2|               UA|  N33264|             2043|   ORD| IAH|         601|     556|     -5.0|    26.0|    8.0|         848|     835|    -13.0|      0.0|             null|     0.0|           167.0|              159.0|   125.0|   925.0|         null|         null|     null|          null|               null|null|        0|                   1|\n",
      "|2018|      2|    4|          24|          2|               UA|  N56859|             2042|   DCA| SFO|         755|     749|     -6.0|    16.0|    4.0|        1100|    1023|    -37.0|      0.0|             null|     0.0|           365.0|              334.0|   314.0|  2442.0|         null|         null|     null|          null|               null|null|        0|                   0|\n",
      "|2018|      2|    4|          24|          2|               UA|  N510UA|             2041|   LAX| EWR|         600|     603|      3.0|    21.0|    6.0|        1414|    1418|      4.0|      0.0|             null|     0.0|           314.0|              315.0|   288.0|  2454.0|         null|         null|     null|          null|               null|null|        0|                   1|\n",
      "|2018|      2|    4|          24|          2|               UA|  N436UA|             2040|   IAH| FLL|        1015|    1008|     -7.0|    14.0|    4.0|        1342|    1323|    -19.0|      0.0|             null|     0.0|           147.0|              135.0|   117.0|   966.0|         null|         null|     null|          null|               null|null|        0|                   1|\n",
      "|2018|      2|    4|          24|          2|               UA|  N77865|             2039|   LAX| ORD|         820|     820|      0.0|    32.0|   14.0|        1427|    1425|     -2.0|      0.0|             null|     0.0|           247.0|              245.0|   199.0|  1744.0|         null|         null|     null|          null|               null|null|        0|                   1|\n",
      "+----+-------+-----+------------+-----------+-----------------+--------+-----------------+------+----+------------+--------+---------+--------+-------+------------+--------+---------+---------+-----------------+--------+----------------+-------------------+--------+--------+-------------+-------------+---------+--------------+-------------------+----+---------+--------------------+\n",
      "only showing top 20 rows\n",
      "\n"
     ]
    }
   ],
   "source": [
    "dfa1 = dfa.withColumn(\"DEP_DEL15\",when(dfa.DEP_DELAY > 15,1).otherwise(0)).withColumn(\"HighLowTrafficOrigin\",\n",
    "      expr(\"case when ORIGIN = 'ATL' then 1 \" +\n",
    "                       \"when ORIGIN = 'ORD' then 1 \" +\n",
    "                       \"when ORIGIN = 'DFW' then 1 \" +\n",
    "                       \"when ORIGIN = 'DEN' then 1 \" +\n",
    "                       \"when ORIGIN = 'CLT' then 1 \" +\n",
    "                       \"when ORIGIN = 'LAX' then 1 \" +\n",
    "                       \"when ORIGIN = 'IAH' then 1 \" +\n",
    "                       \"when ORIGIN = 'PHX' then 1 \" +\n",
    "                       \"when ORIGIN = 'SFO' then 1 \" +\n",
    "                       \"when ORIGIN = 'LGA' then 1 \" +\n",
    "                       \"else 0 end\"))\n",
    "dfa1.show()"
   ]
  },
  {
   "cell_type": "code",
   "execution_count": 84,
   "metadata": {},
   "outputs": [],
   "source": [
    "dfa1.createOrReplaceTempView(\"Airline2\")"
   ]
  },
  {
   "cell_type": "code",
   "execution_count": 85,
   "metadata": {
    "scrolled": true
   },
   "outputs": [
    {
     "name": "stdout",
     "output_type": "stream",
     "text": [
      "+----+-------+-----+------------+-----------+-----------------+--------+-----------------+------+----+------------+--------+---------+--------+-------+------------+--------+---------+---------+-----------------+--------+----------------+-------------------+--------+--------+-------------+-------------+---------+--------------+-------------------+----+---------+--------------------+\n",
      "|YEAR|QUARTER|MONTH|DAY_OF_MONTH|DAY_OF_WEEK|OP_UNIQUE_CARRIER|TAIL_NUM|OP_CARRIER_FL_NUM|ORIGIN|DEST|CRS_DEP_TIME|DEP_TIME|DEP_DELAY|TAXI_OUT|TAXI_IN|CRS_ARR_TIME|ARR_TIME|ARR_DELAY|CANCELLED|CANCELLATION_CODE|DIVERTED|CRS_ELAPSED_TIME|ACTUAL_ELAPSED_TIME|AIR_TIME|DISTANCE|CARRIER_DELAY|WEATHER_DELAY|NAS_DELAY|SECURITY_DELAY|LATE_AIRCRAFT_DELAY|_c30|DEP_DEL15|HighLowTrafficOrigin|\n",
      "+----+-------+-----+------------+-----------+-----------------+--------+-----------------+------+----+------------+--------+---------+--------+-------+------------+--------+---------+---------+-----------------+--------+----------------+-------------------+--------+--------+-------------+-------------+---------+--------------+-------------------+----+---------+--------------------+\n",
      "|2018|      2|    4|          24|          2|               UA|  N18243|             2055|   SFO| PDX|        1200|    1155|     -5.0|    37.0|    4.0|        1351|    1351|      0.0|      0.0|             null|     0.0|           111.0|              116.0|    75.0|   550.0|         null|         null|     null|          null|               null|null|        0|                   1|\n",
      "|2018|      2|    4|          24|          2|               UA|  N18243|             2054|   PDX| SFO|        1442|    1436|     -6.0|    11.0|    9.0|        1632|    1621|    -11.0|      0.0|             null|     0.0|           110.0|              105.0|    85.0|   550.0|         null|         null|     null|          null|               null|null|        0|                   0|\n",
      "|2018|      2|    4|          24|          2|               UA|  N12218|             2053|   MCO| IAH|        1708|    1658|    -10.0|    13.0|    8.0|        1848|    1831|    -17.0|      0.0|             null|     0.0|           160.0|              153.0|   132.0|   854.0|         null|         null|     null|          null|               null|null|        0|                   0|\n",
      "|2018|      2|    4|          24|          2|               UA|  N851UA|             2052|   FAT| SFO|         605|     558|     -7.0|    11.0|   15.0|         702|     655|     -7.0|      0.0|             null|     0.0|            57.0|               57.0|    31.0|   158.0|         null|         null|     null|          null|               null|null|        0|                   0|\n",
      "|2018|      2|    4|          24|          2|               UA|  N431UA|             2051|   TPA| SFO|         805|     758|     -7.0|    15.0|    6.0|        1101|    1041|    -20.0|      0.0|             null|     0.0|           356.0|              343.0|   322.0|  2393.0|         null|         null|     null|          null|               null|null|        0|                   0|\n",
      "|2018|      2|    4|          24|          2|               UA|  N37290|             2050|   MYR| EWR|        1307|    1302|     -5.0|    35.0|    4.0|        1500|    1502|      2.0|      0.0|             null|     0.0|           113.0|              120.0|    81.0|   550.0|         null|         null|     null|          null|               null|null|        0|                   0|\n",
      "|2018|      2|    4|          24|          2|               UA|  N34222|             2049|   DEN| IAH|        1523|    1517|     -6.0|    17.0|    9.0|        1846|    1838|     -8.0|      0.0|             null|     0.0|           143.0|              141.0|   115.0|   862.0|         null|         null|     null|          null|               null|null|        0|                   1|\n",
      "|2018|      2|    4|          24|          2|               UA|  N78540|             2049|   LAX| DEN|        1050|    1043|     -7.0|    33.0|    7.0|        1418|    1411|     -7.0|      0.0|             null|     0.0|           148.0|              148.0|   108.0|   862.0|         null|         null|     null|          null|               null|null|        0|                   1|\n",
      "|2018|      2|    4|          24|          2|               UA|  N457UA|             2048|   LAX| LAS|        1950|    1947|     -3.0|    18.0|    5.0|        2107|    2056|    -11.0|      0.0|             null|     0.0|            77.0|               69.0|    46.0|   236.0|         null|         null|     null|          null|               null|null|        0|                   1|\n",
      "|2018|      2|    4|          24|          2|               UA|  N15710|             2047|   BOS| EWR|        1922|    1913|     -9.0|    21.0|    6.0|        2050|    2032|    -18.0|      0.0|             null|     0.0|            88.0|               79.0|    52.0|   200.0|         null|         null|     null|          null|               null|null|        0|                   0|\n",
      "+----+-------+-----+------------+-----------+-----------------+--------+-----------------+------+----+------------+--------+---------+--------+-------+------------+--------+---------+---------+-----------------+--------+----------------+-------------------+--------+--------+-------------+-------------+---------+--------------+-------------------+----+---------+--------------------+\n",
      "only showing top 10 rows\n",
      "\n"
     ]
    }
   ],
   "source": [
    "test5 = spark.sql(\"SELECT * from Airline2\").show(10)"
   ]
  },
  {
   "cell_type": "code",
   "execution_count": 145,
   "metadata": {},
   "outputs": [],
   "source": [
    "from pyspark.ml.clustering import KMeans\n",
    "from pyspark.ml.evaluation import ClusteringEvaluator\n",
    "import pandas as pd\n",
    "from sklearn.cluster import KMeans\n",
    "\n",
    "\n",
    "\n",
    "#copy dataframe\n",
    "dataset = dfa1\n",
    "dfa = dfa1"
   ]
  },
  {
   "cell_type": "code",
   "execution_count": 146,
   "metadata": {},
   "outputs": [
    {
     "name": "stdout",
     "output_type": "stream",
     "text": [
      "+----+-------+-----+------------+-----------+-----------------+--------+-----------------+------+----+------------+--------+---------+--------+-------+------------+--------+---------+---------+-----------------+--------+----------------+-------------------+--------+--------+-------------+-------------+---------+--------------+-------------------+----+---------+--------------------+\n",
      "|YEAR|QUARTER|MONTH|DAY_OF_MONTH|DAY_OF_WEEK|OP_UNIQUE_CARRIER|TAIL_NUM|OP_CARRIER_FL_NUM|ORIGIN|DEST|CRS_DEP_TIME|DEP_TIME|DEP_DELAY|TAXI_OUT|TAXI_IN|CRS_ARR_TIME|ARR_TIME|ARR_DELAY|CANCELLED|CANCELLATION_CODE|DIVERTED|CRS_ELAPSED_TIME|ACTUAL_ELAPSED_TIME|AIR_TIME|DISTANCE|CARRIER_DELAY|WEATHER_DELAY|NAS_DELAY|SECURITY_DELAY|LATE_AIRCRAFT_DELAY|_c30|DEP_DEL15|HighLowTrafficOrigin|\n",
      "+----+-------+-----+------------+-----------+-----------------+--------+-----------------+------+----+------------+--------+---------+--------+-------+------------+--------+---------+---------+-----------------+--------+----------------+-------------------+--------+--------+-------------+-------------+---------+--------------+-------------------+----+---------+--------------------+\n",
      "|2018|      2|    4|          24|          2|               UA|  N18243|             2055|   SFO| PDX|        1200|    1155|     -5.0|    37.0|    4.0|        1351|    1351|      0.0|      0.0|             null|     0.0|           111.0|              116.0|    75.0|   550.0|         null|         null|     null|          null|               null|null|        0|                   1|\n",
      "|2018|      2|    4|          24|          2|               UA|  N18243|             2054|   PDX| SFO|        1442|    1436|     -6.0|    11.0|    9.0|        1632|    1621|    -11.0|      0.0|             null|     0.0|           110.0|              105.0|    85.0|   550.0|         null|         null|     null|          null|               null|null|        0|                   0|\n",
      "|2018|      2|    4|          24|          2|               UA|  N12218|             2053|   MCO| IAH|        1708|    1658|    -10.0|    13.0|    8.0|        1848|    1831|    -17.0|      0.0|             null|     0.0|           160.0|              153.0|   132.0|   854.0|         null|         null|     null|          null|               null|null|        0|                   0|\n",
      "|2018|      2|    4|          24|          2|               UA|  N851UA|             2052|   FAT| SFO|         605|     558|     -7.0|    11.0|   15.0|         702|     655|     -7.0|      0.0|             null|     0.0|            57.0|               57.0|    31.0|   158.0|         null|         null|     null|          null|               null|null|        0|                   0|\n",
      "|2018|      2|    4|          24|          2|               UA|  N431UA|             2051|   TPA| SFO|         805|     758|     -7.0|    15.0|    6.0|        1101|    1041|    -20.0|      0.0|             null|     0.0|           356.0|              343.0|   322.0|  2393.0|         null|         null|     null|          null|               null|null|        0|                   0|\n",
      "|2018|      2|    4|          24|          2|               UA|  N37290|             2050|   MYR| EWR|        1307|    1302|     -5.0|    35.0|    4.0|        1500|    1502|      2.0|      0.0|             null|     0.0|           113.0|              120.0|    81.0|   550.0|         null|         null|     null|          null|               null|null|        0|                   0|\n",
      "|2018|      2|    4|          24|          2|               UA|  N34222|             2049|   DEN| IAH|        1523|    1517|     -6.0|    17.0|    9.0|        1846|    1838|     -8.0|      0.0|             null|     0.0|           143.0|              141.0|   115.0|   862.0|         null|         null|     null|          null|               null|null|        0|                   1|\n",
      "|2018|      2|    4|          24|          2|               UA|  N78540|             2049|   LAX| DEN|        1050|    1043|     -7.0|    33.0|    7.0|        1418|    1411|     -7.0|      0.0|             null|     0.0|           148.0|              148.0|   108.0|   862.0|         null|         null|     null|          null|               null|null|        0|                   1|\n",
      "|2018|      2|    4|          24|          2|               UA|  N457UA|             2048|   LAX| LAS|        1950|    1947|     -3.0|    18.0|    5.0|        2107|    2056|    -11.0|      0.0|             null|     0.0|            77.0|               69.0|    46.0|   236.0|         null|         null|     null|          null|               null|null|        0|                   1|\n",
      "|2018|      2|    4|          24|          2|               UA|  N15710|             2047|   BOS| EWR|        1922|    1913|     -9.0|    21.0|    6.0|        2050|    2032|    -18.0|      0.0|             null|     0.0|            88.0|               79.0|    52.0|   200.0|         null|         null|     null|          null|               null|null|        0|                   0|\n",
      "+----+-------+-----+------------+-----------+-----------------+--------+-----------------+------+----+------------+--------+---------+--------+-------+------------+--------+---------+---------+-----------------+--------+----------------+-------------------+--------+--------+-------------+-------------+---------+--------------+-------------------+----+---------+--------------------+\n",
      "only showing top 10 rows\n",
      "\n"
     ]
    }
   ],
   "source": [
    "#Remove cancelled flights\n",
    "dataset = dataset.filter(\"CANCELLED = 0\")\n",
    "dataset.show(10)"
   ]
  },
  {
   "cell_type": "code",
   "execution_count": 100,
   "metadata": {},
   "outputs": [
    {
     "data": {
      "text/plain": [
       "DataFrame[YEAR: int, QUARTER: int, MONTH: int, DAY_OF_MONTH: int, DAY_OF_WEEK: int, OP_UNIQUE_CARRIER: string, TAIL_NUM: string, OP_CARRIER_FL_NUM: int, ORIGIN: string, DEST: string, CRS_DEP_TIME: int, DEP_TIME: int, DEP_DELAY: double, TAXI_OUT: double, TAXI_IN: double, CRS_ARR_TIME: int, ARR_TIME: int, ARR_DELAY: double, CANCELLED: double, CANCELLATION_CODE: string, DIVERTED: double, CRS_ELAPSED_TIME: double, ACTUAL_ELAPSED_TIME: double, AIR_TIME: double, DISTANCE: double, CARRIER_DELAY: double, WEATHER_DELAY: double, NAS_DELAY: double, SECURITY_DELAY: double, LATE_AIRCRAFT_DELAY: double, _c30: string, DEP_DEL15: int, HighLowTrafficOrigin: int]"
      ]
     },
     "execution_count": 100,
     "metadata": {},
     "output_type": "execute_result"
    }
   ],
   "source": [
    "datasett.unpersist()"
   ]
  },
  {
   "cell_type": "code",
   "execution_count": null,
   "metadata": {},
   "outputs": [],
   "source": []
  }
 ],
 "metadata": {
  "kernelspec": {
   "display_name": "Python 3",
   "language": "python",
   "name": "python3"
  },
  "language_info": {
   "codemirror_mode": {
    "name": "ipython",
    "version": 3
   },
   "file_extension": ".py",
   "mimetype": "text/x-python",
   "name": "python",
   "nbconvert_exporter": "python",
   "pygments_lexer": "ipython3",
   "version": "3.7.3"
  }
 },
 "nbformat": 4,
 "nbformat_minor": 2
}
